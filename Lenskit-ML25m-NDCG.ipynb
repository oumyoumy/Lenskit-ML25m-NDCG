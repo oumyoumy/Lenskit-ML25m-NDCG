{
 "cells": [
  {
   "cell_type": "code",
   "execution_count": 1,
   "id": "e9405148",
   "metadata": {},
   "outputs": [
    {
     "name": "stdout",
     "output_type": "stream",
     "text": [
      "Requirement already satisfied: lenskit in /home/oumy/Or/lib/python3.7/site-packages (0.14.0)\n",
      "Requirement already satisfied: cffi>=1.12.2 in /home/oumy/Or/lib/python3.7/site-packages (from lenskit) (1.14.0)\n",
      "Requirement already satisfied: psutil>=5 in /home/oumy/Or/lib/python3.7/site-packages (from lenskit) (5.6.7)\n",
      "Requirement already satisfied: seedbank>=0.1.0 in /home/oumy/Or/lib/python3.7/site-packages (from lenskit) (0.1.2)\n",
      "Requirement already satisfied: scipy>=1.2 in /home/oumy/Or/lib/python3.7/site-packages (from lenskit) (1.4.1)\n",
      "Requirement already satisfied: csr>=0.3.1 in /home/oumy/Or/lib/python3.7/site-packages (from lenskit) (0.4.1)\n",
      "Requirement already satisfied: pandas==1.*,>=1.0 in /home/oumy/Or/lib/python3.7/site-packages (from lenskit) (1.3.0)\n",
      "Requirement already satisfied: numpy>=1.17 in /home/oumy/Or/lib/python3.7/site-packages (from lenskit) (1.21.6)\n",
      "Requirement already satisfied: binpickle>=0.3.2 in /home/oumy/Or/lib/python3.7/site-packages (from lenskit) (0.3.4)\n",
      "Requirement already satisfied: numba<0.56,>=0.51 in /home/oumy/Or/lib/python3.7/site-packages (from lenskit) (0.51.0)\n",
      "Requirement already satisfied: pycparser in /home/oumy/Or/lib/python3.7/site-packages (from cffi>=1.12.2->lenskit) (2.19)\n",
      "Requirement already satisfied: anyconfig in /home/oumy/Or/lib/python3.7/site-packages (from seedbank>=0.1.0->lenskit) (0.12.0)\n",
      "Requirement already satisfied: python-dateutil>=2.7.3 in /home/oumy/Or/lib/python3.7/site-packages (from pandas==1.*,>=1.0->lenskit) (2.8.2)\n",
      "Requirement already satisfied: pytz>=2017.3 in /home/oumy/Or/lib/python3.7/site-packages (from pandas==1.*,>=1.0->lenskit) (2019.3)\n",
      "Requirement already satisfied: pickle5; python_version < \"3.8\" in /home/oumy/Or/lib/python3.7/site-packages (from binpickle>=0.3.2->lenskit) (0.0.12)\n",
      "Requirement already satisfied: msgpack>=1.0 in /home/oumy/Or/lib/python3.7/site-packages (from binpickle>=0.3.2->lenskit) (1.0.3)\n",
      "Requirement already satisfied: setuptools in /home/oumy/Or/lib/python3.7/site-packages (from numba<0.56,>=0.51->lenskit) (45.2.0.post20200209)\n",
      "Requirement already satisfied: llvmlite<0.35,>=0.34.0.dev0 in /home/oumy/Or/lib/python3.7/site-packages (from numba<0.56,>=0.51->lenskit) (0.34.0)\n",
      "Requirement already satisfied: six>=1.5 in /home/oumy/Or/lib/python3.7/site-packages (from python-dateutil>=2.7.3->pandas==1.*,>=1.0->lenskit) (1.14.0)\n",
      "Note: you may need to restart the kernel to use updated packages.\n"
     ]
    }
   ],
   "source": [
    "pip install lenskit"
   ]
  },
  {
   "cell_type": "code",
   "execution_count": 2,
   "id": "b5911221",
   "metadata": {},
   "outputs": [
    {
     "name": "stdout",
     "output_type": "stream",
     "text": [
      "Requirement already satisfied: numba==0.51 in /home/oumy/Or/lib/python3.7/site-packages (0.51.0)\n",
      "Requirement already satisfied: numpy>=1.15 in /home/oumy/Or/lib/python3.7/site-packages (from numba==0.51) (1.21.6)\n",
      "Requirement already satisfied: llvmlite<0.35,>=0.34.0.dev0 in /home/oumy/Or/lib/python3.7/site-packages (from numba==0.51) (0.34.0)\n",
      "Requirement already satisfied: setuptools in /home/oumy/Or/lib/python3.7/site-packages (from numba==0.51) (45.2.0.post20200209)\n",
      "Note: you may need to restart the kernel to use updated packages.\n"
     ]
    }
   ],
   "source": [
    "pip install numba==0.51"
   ]
  },
  {
   "cell_type": "code",
   "execution_count": 3,
   "id": "bb576e24",
   "metadata": {},
   "outputs": [
    {
     "name": "stdout",
     "output_type": "stream",
     "text": [
      "Requirement already up-to-date: llvmlite==0.34 in /home/oumy/Or/lib/python3.7/site-packages (0.34.0)\n",
      "Note: you may need to restart the kernel to use updated packages.\n"
     ]
    }
   ],
   "source": [
    "pip install -U llvmlite==0.34"
   ]
  },
  {
   "cell_type": "code",
   "execution_count": 4,
   "id": "17e03407",
   "metadata": {},
   "outputs": [],
   "source": [
    "from lenskit.datasets import ML100K\n",
    "from lenskit import batch, topn, util\n",
    "from lenskit import crossfold as xf #module provides support for preparing data sets.\n",
    "from lenskit.algorithms import Recommender, als, item_knn as knn\n",
    "from lenskit import topn\n",
    "import pandas as pd"
   ]
  },
  {
   "cell_type": "code",
   "execution_count": 13,
   "id": "b76a444f",
   "metadata": {},
   "outputs": [],
   "source": [
    "ml100k = ML100K('ml-25m')\n",
    "ratings = pd.read_csv('ratings.csv')"
   ]
  },
  {
   "cell_type": "code",
   "execution_count": 14,
   "id": "9eca1507",
   "metadata": {},
   "outputs": [
    {
     "data": {
      "text/html": [
       "<div>\n",
       "<style scoped>\n",
       "    .dataframe tbody tr th:only-of-type {\n",
       "        vertical-align: middle;\n",
       "    }\n",
       "\n",
       "    .dataframe tbody tr th {\n",
       "        vertical-align: top;\n",
       "    }\n",
       "\n",
       "    .dataframe thead th {\n",
       "        text-align: right;\n",
       "    }\n",
       "</style>\n",
       "<table border=\"1\" class=\"dataframe\">\n",
       "  <thead>\n",
       "    <tr style=\"text-align: right;\">\n",
       "      <th></th>\n",
       "      <th>user</th>\n",
       "      <th>item</th>\n",
       "      <th>rating</th>\n",
       "      <th>timestamp</th>\n",
       "    </tr>\n",
       "  </thead>\n",
       "  <tbody>\n",
       "    <tr>\n",
       "      <th>0</th>\n",
       "      <td>1</td>\n",
       "      <td>296</td>\n",
       "      <td>5.0</td>\n",
       "      <td>1147880044</td>\n",
       "    </tr>\n",
       "    <tr>\n",
       "      <th>1</th>\n",
       "      <td>1</td>\n",
       "      <td>306</td>\n",
       "      <td>3.5</td>\n",
       "      <td>1147868817</td>\n",
       "    </tr>\n",
       "    <tr>\n",
       "      <th>2</th>\n",
       "      <td>1</td>\n",
       "      <td>307</td>\n",
       "      <td>5.0</td>\n",
       "      <td>1147868828</td>\n",
       "    </tr>\n",
       "    <tr>\n",
       "      <th>3</th>\n",
       "      <td>1</td>\n",
       "      <td>665</td>\n",
       "      <td>5.0</td>\n",
       "      <td>1147878820</td>\n",
       "    </tr>\n",
       "    <tr>\n",
       "      <th>4</th>\n",
       "      <td>1</td>\n",
       "      <td>899</td>\n",
       "      <td>3.5</td>\n",
       "      <td>1147868510</td>\n",
       "    </tr>\n",
       "    <tr>\n",
       "      <th>...</th>\n",
       "      <td>...</td>\n",
       "      <td>...</td>\n",
       "      <td>...</td>\n",
       "      <td>...</td>\n",
       "    </tr>\n",
       "    <tr>\n",
       "      <th>1048570</th>\n",
       "      <td>7045</td>\n",
       "      <td>4447</td>\n",
       "      <td>3.5</td>\n",
       "      <td>1164258032</td>\n",
       "    </tr>\n",
       "    <tr>\n",
       "      <th>1048571</th>\n",
       "      <td>7045</td>\n",
       "      <td>4720</td>\n",
       "      <td>4.0</td>\n",
       "      <td>1164257756</td>\n",
       "    </tr>\n",
       "    <tr>\n",
       "      <th>1048572</th>\n",
       "      <td>7045</td>\n",
       "      <td>4857</td>\n",
       "      <td>4.0</td>\n",
       "      <td>1164242753</td>\n",
       "    </tr>\n",
       "    <tr>\n",
       "      <th>1048573</th>\n",
       "      <td>7045</td>\n",
       "      <td>4886</td>\n",
       "      <td>5.0</td>\n",
       "      <td>1168033506</td>\n",
       "    </tr>\n",
       "    <tr>\n",
       "      <th>1048574</th>\n",
       "      <td>7045</td>\n",
       "      <td>4896</td>\n",
       "      <td>4.0</td>\n",
       "      <td>1164122301</td>\n",
       "    </tr>\n",
       "  </tbody>\n",
       "</table>\n",
       "<p>1048575 rows × 4 columns</p>\n",
       "</div>"
      ],
      "text/plain": [
       "         user  item  rating   timestamp\n",
       "0           1   296     5.0  1147880044\n",
       "1           1   306     3.5  1147868817\n",
       "2           1   307     5.0  1147868828\n",
       "3           1   665     5.0  1147878820\n",
       "4           1   899     3.5  1147868510\n",
       "...       ...   ...     ...         ...\n",
       "1048570  7045  4447     3.5  1164258032\n",
       "1048571  7045  4720     4.0  1164257756\n",
       "1048572  7045  4857     4.0  1164242753\n",
       "1048573  7045  4886     5.0  1168033506\n",
       "1048574  7045  4896     4.0  1164122301\n",
       "\n",
       "[1048575 rows x 4 columns]"
      ]
     },
     "execution_count": 14,
     "metadata": {},
     "output_type": "execute_result"
    }
   ],
   "source": [
    "ratings"
   ]
  },
  {
   "cell_type": "code",
   "execution_count": 15,
   "id": "e31d5366",
   "metadata": {},
   "outputs": [
    {
     "data": {
      "text/html": [
       "<div>\n",
       "<style scoped>\n",
       "    .dataframe tbody tr th:only-of-type {\n",
       "        vertical-align: middle;\n",
       "    }\n",
       "\n",
       "    .dataframe tbody tr th {\n",
       "        vertical-align: top;\n",
       "    }\n",
       "\n",
       "    .dataframe thead th {\n",
       "        text-align: right;\n",
       "    }\n",
       "</style>\n",
       "<table border=\"1\" class=\"dataframe\">\n",
       "  <thead>\n",
       "    <tr style=\"text-align: right;\">\n",
       "      <th></th>\n",
       "      <th>user</th>\n",
       "      <th>item</th>\n",
       "      <th>rating</th>\n",
       "      <th>timestamp</th>\n",
       "    </tr>\n",
       "  </thead>\n",
       "  <tbody>\n",
       "    <tr>\n",
       "      <th>0</th>\n",
       "      <td>1</td>\n",
       "      <td>296</td>\n",
       "      <td>5.0</td>\n",
       "      <td>1147880044</td>\n",
       "    </tr>\n",
       "    <tr>\n",
       "      <th>1</th>\n",
       "      <td>1</td>\n",
       "      <td>306</td>\n",
       "      <td>3.5</td>\n",
       "      <td>1147868817</td>\n",
       "    </tr>\n",
       "    <tr>\n",
       "      <th>2</th>\n",
       "      <td>1</td>\n",
       "      <td>307</td>\n",
       "      <td>5.0</td>\n",
       "      <td>1147868828</td>\n",
       "    </tr>\n",
       "    <tr>\n",
       "      <th>3</th>\n",
       "      <td>1</td>\n",
       "      <td>665</td>\n",
       "      <td>5.0</td>\n",
       "      <td>1147878820</td>\n",
       "    </tr>\n",
       "    <tr>\n",
       "      <th>4</th>\n",
       "      <td>1</td>\n",
       "      <td>899</td>\n",
       "      <td>3.5</td>\n",
       "      <td>1147868510</td>\n",
       "    </tr>\n",
       "  </tbody>\n",
       "</table>\n",
       "</div>"
      ],
      "text/plain": [
       "   user  item  rating   timestamp\n",
       "0     1   296     5.0  1147880044\n",
       "1     1   306     3.5  1147868817\n",
       "2     1   307     5.0  1147868828\n",
       "3     1   665     5.0  1147878820\n",
       "4     1   899     3.5  1147868510"
      ]
     },
     "execution_count": 15,
     "metadata": {},
     "output_type": "execute_result"
    }
   ],
   "source": [
    "ratings.head()"
   ]
  },
  {
   "cell_type": "code",
   "execution_count": 16,
   "id": "3dfddf48",
   "metadata": {},
   "outputs": [
    {
     "name": "stdout",
     "output_type": "stream",
     "text": [
      "DATETIME 2006-05-17 15:34:04\n"
     ]
    }
   ],
   "source": [
    "#A timestamp is a sequence of characters or encoded information identifying when a certain event occurred.\n",
    "from datetime import datetime\n",
    "\n",
    "print(\"DATETIME\",datetime.fromtimestamp(ratings['timestamp'][0]))"
   ]
  },
  {
   "cell_type": "code",
   "execution_count": 17,
   "id": "f771c95c",
   "metadata": {},
   "outputs": [],
   "source": [
    "algo_ii = knn.ItemItem(20) # 20 : the maximum number of neighbors for scoring each item\n",
    "algo_als = als.BiasedMF(40) # the number of features to train"
   ]
  },
  {
   "cell_type": "code",
   "execution_count": 166,
   "id": "b0f27364",
   "metadata": {},
   "outputs": [],
   "source": [
    "#function to generate recommendations from one algorithm over a single partition of the data set.\n",
    "def eval(aname, algo, train, test):\n",
    "    fittable = util.clone(algo)\n",
    "    fittable = Recommender.adapt(fittable)\n",
    "    fittable.fit(train)\n",
    "    users = test.user.unique()\n",
    "    recs = batch.recommend(fittable, users, 10) # nrecs = 500\n",
    "    recs['Algorithm'] = aname\n",
    "    return recs"
   ]
  },
  {
   "cell_type": "code",
   "execution_count": 19,
   "id": "daeb179c",
   "metadata": {},
   "outputs": [
    {
     "data": {
      "text/plain": [
       "0          5.0\n",
       "1          3.5\n",
       "2          5.0\n",
       "3          5.0\n",
       "4          3.5\n",
       "          ... \n",
       "1048570    3.5\n",
       "1048571    4.0\n",
       "1048572    4.0\n",
       "1048573    5.0\n",
       "1048574    4.0\n",
       "Name: rating, Length: 1048575, dtype: float64"
      ]
     },
     "execution_count": 19,
     "metadata": {},
     "output_type": "execute_result"
    }
   ],
   "source": [
    "ratings.rating"
   ]
  },
  {
   "cell_type": "code",
   "execution_count": 167,
   "id": "cdb99c43",
   "metadata": {},
   "outputs": [],
   "source": [
    "all_recs = []\n",
    "test_data = []\n",
    "for train, test in xf.partition_users(ratings[['user', 'item', 'rating']], 5, xf.SampleFrac(0.2)):\n",
    "    #SampleFrac : Randomly select a fraction of test rows per item(20%)\n",
    "\n",
    "    test_data.append(test)\n",
    "    all_recs.append(eval('ItemItem', algo_ii, train, test))\n",
    "    all_recs.append(eval('ALS', algo_als, train, test))"
   ]
  },
  {
   "cell_type": "code",
   "execution_count": 168,
   "id": "dcb81055",
   "metadata": {},
   "outputs": [
    {
     "data": {
      "text/html": [
       "<div>\n",
       "<style scoped>\n",
       "    .dataframe tbody tr th:only-of-type {\n",
       "        vertical-align: middle;\n",
       "    }\n",
       "\n",
       "    .dataframe tbody tr th {\n",
       "        vertical-align: top;\n",
       "    }\n",
       "\n",
       "    .dataframe thead th {\n",
       "        text-align: right;\n",
       "    }\n",
       "</style>\n",
       "<table border=\"1\" class=\"dataframe\">\n",
       "  <thead>\n",
       "    <tr style=\"text-align: right;\">\n",
       "      <th></th>\n",
       "      <th>item</th>\n",
       "      <th>score</th>\n",
       "      <th>user</th>\n",
       "      <th>rank</th>\n",
       "      <th>Algorithm</th>\n",
       "    </tr>\n",
       "  </thead>\n",
       "  <tbody>\n",
       "    <tr>\n",
       "      <th>0</th>\n",
       "      <td>33264</td>\n",
       "      <td>6.505742</td>\n",
       "      <td>15</td>\n",
       "      <td>1</td>\n",
       "      <td>ItemItem</td>\n",
       "    </tr>\n",
       "    <tr>\n",
       "      <th>1</th>\n",
       "      <td>173351</td>\n",
       "      <td>6.356891</td>\n",
       "      <td>15</td>\n",
       "      <td>2</td>\n",
       "      <td>ItemItem</td>\n",
       "    </tr>\n",
       "    <tr>\n",
       "      <th>2</th>\n",
       "      <td>7488</td>\n",
       "      <td>6.150401</td>\n",
       "      <td>15</td>\n",
       "      <td>3</td>\n",
       "      <td>ItemItem</td>\n",
       "    </tr>\n",
       "    <tr>\n",
       "      <th>3</th>\n",
       "      <td>60654</td>\n",
       "      <td>6.003885</td>\n",
       "      <td>15</td>\n",
       "      <td>4</td>\n",
       "      <td>ItemItem</td>\n",
       "    </tr>\n",
       "    <tr>\n",
       "      <th>4</th>\n",
       "      <td>173355</td>\n",
       "      <td>6.002370</td>\n",
       "      <td>15</td>\n",
       "      <td>5</td>\n",
       "      <td>ItemItem</td>\n",
       "    </tr>\n",
       "    <tr>\n",
       "      <th>...</th>\n",
       "      <td>...</td>\n",
       "      <td>...</td>\n",
       "      <td>...</td>\n",
       "      <td>...</td>\n",
       "      <td>...</td>\n",
       "    </tr>\n",
       "    <tr>\n",
       "      <th>14085</th>\n",
       "      <td>7396</td>\n",
       "      <td>5.116561</td>\n",
       "      <td>7044</td>\n",
       "      <td>6</td>\n",
       "      <td>ALS</td>\n",
       "    </tr>\n",
       "    <tr>\n",
       "      <th>14086</th>\n",
       "      <td>112733</td>\n",
       "      <td>5.080897</td>\n",
       "      <td>7044</td>\n",
       "      <td>7</td>\n",
       "      <td>ALS</td>\n",
       "    </tr>\n",
       "    <tr>\n",
       "      <th>14087</th>\n",
       "      <td>7786</td>\n",
       "      <td>5.024371</td>\n",
       "      <td>7044</td>\n",
       "      <td>8</td>\n",
       "      <td>ALS</td>\n",
       "    </tr>\n",
       "    <tr>\n",
       "      <th>14088</th>\n",
       "      <td>151693</td>\n",
       "      <td>5.018038</td>\n",
       "      <td>7044</td>\n",
       "      <td>9</td>\n",
       "      <td>ALS</td>\n",
       "    </tr>\n",
       "    <tr>\n",
       "      <th>14089</th>\n",
       "      <td>164949</td>\n",
       "      <td>4.985429</td>\n",
       "      <td>7044</td>\n",
       "      <td>10</td>\n",
       "      <td>ALS</td>\n",
       "    </tr>\n",
       "  </tbody>\n",
       "</table>\n",
       "<p>140900 rows × 5 columns</p>\n",
       "</div>"
      ],
      "text/plain": [
       "         item     score  user  rank Algorithm\n",
       "0       33264  6.505742    15     1  ItemItem\n",
       "1      173351  6.356891    15     2  ItemItem\n",
       "2        7488  6.150401    15     3  ItemItem\n",
       "3       60654  6.003885    15     4  ItemItem\n",
       "4      173355  6.002370    15     5  ItemItem\n",
       "...       ...       ...   ...   ...       ...\n",
       "14085    7396  5.116561  7044     6       ALS\n",
       "14086  112733  5.080897  7044     7       ALS\n",
       "14087    7786  5.024371  7044     8       ALS\n",
       "14088  151693  5.018038  7044     9       ALS\n",
       "14089  164949  4.985429  7044    10       ALS\n",
       "\n",
       "[140900 rows x 5 columns]"
      ]
     },
     "execution_count": 168,
     "metadata": {},
     "output_type": "execute_result"
    }
   ],
   "source": [
    "all_recs = pd.concat(all_recs, ignore_index= False)\n",
    "all_recs"
   ]
  },
  {
   "cell_type": "code",
   "execution_count": 169,
   "id": "b48f51a7",
   "metadata": {},
   "outputs": [],
   "source": [
    "test_data = pd.concat(test_data, ignore_index=True)"
   ]
  },
  {
   "cell_type": "code",
   "execution_count": 170,
   "id": "e1301eeb",
   "metadata": {},
   "outputs": [
    {
     "data": {
      "text/html": [
       "<div>\n",
       "<style scoped>\n",
       "    .dataframe tbody tr th:only-of-type {\n",
       "        vertical-align: middle;\n",
       "    }\n",
       "\n",
       "    .dataframe tbody tr th {\n",
       "        vertical-align: top;\n",
       "    }\n",
       "\n",
       "    .dataframe thead th {\n",
       "        text-align: right;\n",
       "    }\n",
       "</style>\n",
       "<table border=\"1\" class=\"dataframe\">\n",
       "  <thead>\n",
       "    <tr style=\"text-align: right;\">\n",
       "      <th></th>\n",
       "      <th></th>\n",
       "      <th>nrecs</th>\n",
       "      <th>ndcg</th>\n",
       "    </tr>\n",
       "    <tr>\n",
       "      <th>Algorithm</th>\n",
       "      <th>user</th>\n",
       "      <th></th>\n",
       "      <th></th>\n",
       "    </tr>\n",
       "  </thead>\n",
       "  <tbody>\n",
       "    <tr>\n",
       "      <th rowspan=\"5\" valign=\"top\">ItemItem</th>\n",
       "      <th>15</th>\n",
       "      <td>10</td>\n",
       "      <td>0.0</td>\n",
       "    </tr>\n",
       "    <tr>\n",
       "      <th>17</th>\n",
       "      <td>10</td>\n",
       "      <td>0.0</td>\n",
       "    </tr>\n",
       "    <tr>\n",
       "      <th>18</th>\n",
       "      <td>10</td>\n",
       "      <td>0.0</td>\n",
       "    </tr>\n",
       "    <tr>\n",
       "      <th>24</th>\n",
       "      <td>10</td>\n",
       "      <td>0.0</td>\n",
       "    </tr>\n",
       "    <tr>\n",
       "      <th>25</th>\n",
       "      <td>10</td>\n",
       "      <td>0.0</td>\n",
       "    </tr>\n",
       "    <tr>\n",
       "      <th>...</th>\n",
       "      <th>...</th>\n",
       "      <td>...</td>\n",
       "      <td>...</td>\n",
       "    </tr>\n",
       "    <tr>\n",
       "      <th rowspan=\"5\" valign=\"top\">ALS</th>\n",
       "      <th>7031</th>\n",
       "      <td>10</td>\n",
       "      <td>0.0</td>\n",
       "    </tr>\n",
       "    <tr>\n",
       "      <th>7034</th>\n",
       "      <td>10</td>\n",
       "      <td>0.0</td>\n",
       "    </tr>\n",
       "    <tr>\n",
       "      <th>7037</th>\n",
       "      <td>10</td>\n",
       "      <td>0.0</td>\n",
       "    </tr>\n",
       "    <tr>\n",
       "      <th>7043</th>\n",
       "      <td>10</td>\n",
       "      <td>0.0</td>\n",
       "    </tr>\n",
       "    <tr>\n",
       "      <th>7044</th>\n",
       "      <td>10</td>\n",
       "      <td>0.0</td>\n",
       "    </tr>\n",
       "  </tbody>\n",
       "</table>\n",
       "<p>14090 rows × 2 columns</p>\n",
       "</div>"
      ],
      "text/plain": [
       "                nrecs  ndcg\n",
       "Algorithm user             \n",
       "ItemItem  15       10   0.0\n",
       "          17       10   0.0\n",
       "          18       10   0.0\n",
       "          24       10   0.0\n",
       "          25       10   0.0\n",
       "...               ...   ...\n",
       "ALS       7031     10   0.0\n",
       "          7034     10   0.0\n",
       "          7037     10   0.0\n",
       "          7043     10   0.0\n",
       "          7044     10   0.0\n",
       "\n",
       "[14090 rows x 2 columns]"
      ]
     },
     "execution_count": 170,
     "metadata": {},
     "output_type": "execute_result"
    }
   ],
   "source": [
    "rla = topn.RecListAnalysis() #RecListAnalysis will silently drop users who received no recommendations.\n",
    "rla.add_metric(topn.ndcg) # topn : module contains metrics for evaluating top-N recommendation lists(precision, recall)\n",
    "results = rla.compute(all_recs, test_data)\n",
    "results"
   ]
  },
  {
   "cell_type": "code",
   "execution_count": 172,
   "id": "73e67063",
   "metadata": {},
   "outputs": [
    {
     "data": {
      "text/plain": [
       "Algorithm\n",
       "ALS         0.012948\n",
       "ItemItem    0.000085\n",
       "Name: ndcg, dtype: float64"
      ]
     },
     "execution_count": 172,
     "metadata": {},
     "output_type": "execute_result"
    }
   ],
   "source": [
    "results.groupby('Algorithm').ndcg.mean()"
   ]
  },
  {
   "cell_type": "code",
   "execution_count": 173,
   "id": "0ac5fbf9",
   "metadata": {},
   "outputs": [
    {
     "data": {
      "text/plain": [
       "<matplotlib.axes._subplots.AxesSubplot at 0x7f53e9ec6150>"
      ]
     },
     "execution_count": 173,
     "metadata": {},
     "output_type": "execute_result"
    },
    {
     "data": {
      "image/png": "[encoded data removed]",
      "text/plain": [
       "<Figure size 432x288 with 1 Axes>"
      ]
     },
     "metadata": {
      "needs_background": "light"
     },
     "output_type": "display_data"
    }
   ],
   "source": [
    "results.groupby('Algorithm').ndcg.mean().plot.bar()"
   ]
  },
  {
   "cell_type": "code",
   "execution_count": null,
   "id": "bfe049e0",
   "metadata": {},
   "outputs": [],
   "source": []
  },
  {
   "cell_type": "code",
   "execution_count": null,
   "id": "0c62d7cc",
   "metadata": {},
   "outputs": [],
   "source": []
  }
 ],
 "metadata": {
  "kernelspec": {
   "display_name": "Python 3 (ipykernel)",
   "language": "python",
   "name": "python3"
  },
  "language_info": {
   "codemirror_mode": {
    "name": "ipython",
    "version": 3
   },
   "file_extension": ".py",
   "mimetype": "text/x-python",
   "name": "python",
   "nbconvert_exporter": "python",
   "pygments_lexer": "ipython3",
   "version": "3.7.6"
  }
 },
 "nbformat": 4,
 "nbformat_minor": 5
}
